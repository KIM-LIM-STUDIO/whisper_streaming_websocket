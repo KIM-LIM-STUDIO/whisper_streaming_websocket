{
  "nbformat": 4,
  "nbformat_minor": 0,
  "metadata": {
    "colab": {
      "provenance": []
    },
    "kernelspec": {
      "name": "python3",
      "display_name": "Python 3"
    },
    "language_info": {
      "name": "python"
    }
  },
  "cells": [
    {
      "cell_type": "code",
      "execution_count": null,
      "metadata": {
        "id": "_6C_T9BoPNKc"
      },
      "outputs": [],
      "source": [
        "!pip install -U transformers\n",
        "!pip install --upgrade transformers accelerate bitsandbytes\n",
        "!pip install -q transformers datasets peft accelerate bitsandbytes"
      ]
    },
    {
      "cell_type": "code",
      "source": [
        "import json\n",
        "from datasets import Dataset\n",
        "from transformers import AutoTokenizer, AutoModelForCausalLM\n",
        "from peft import LoraConfig, get_peft_model, TaskType\n",
        "from transformers import TrainingArguments, Trainer\n"
      ],
      "metadata": {
        "id": "BD11thP7PSw3"
      },
      "execution_count": null,
      "outputs": []
    },
    {
      "cell_type": "code",
      "source": [
        "# JSON 파일 로드\n",
        "with open(\"/content/project_dataset_20250610_030527.json\", \"r\", encoding=\"utf-8\") as f:\n",
        "    data = json.load(f)\n",
        "\n",
        "# JSON이 리스트인지 확인\n",
        "if isinstance(data, dict):\n",
        "    data = data[\"data\"]\n",
        "\n",
        "# Dataset 생성\n",
        "dataset = Dataset.from_list(data)\n",
        "\n",
        "# Train/Test 분할\n",
        "dataset_dict = dataset.train_test_split(test_size=0.1)\n",
        "train_dataset = dataset_dict['train']\n",
        "test_dataset = dataset_dict['test']"
      ],
      "metadata": {
        "id": "JOBFs9z8PSuw"
      },
      "execution_count": null,
      "outputs": []
    },
    {
      "cell_type": "code",
      "source": [
        "tokenized_train = train_dataset.map(format_sample)\n",
        "tokenized_test = test_dataset.map(format_sample)"
      ],
      "metadata": {
        "id": "XO6-VHorPSsg"
      },
      "execution_count": null,
      "outputs": []
    },
    {
      "cell_type": "code",
      "source": [
        "\n",
        "HF_TOKEN = \"허깅페이스_토큰입력\"\n",
        "\n",
        "model_name = \"mistralai/Mistral-7B-v0.1\"\n",
        "\n",
        "tokenizer = AutoTokenizer.from_pretrained(\n",
        "    model_name,\n",
        "    token=HF_TOKEN,\n",
        "    trust_remote_code=True\n",
        ")\n",
        "model = AutoModelForCausalLM.from_pretrained(\n",
        "    model_name,\n",
        "    token=HF_TOKEN,\n",
        "    device_map=\"auto\",\n",
        "    load_in_4bit=True,\n",
        "    trust_remote_code=True\n",
        ")"
      ],
      "metadata": {
        "id": "9y1UEtxpPSqX"
      },
      "execution_count": null,
      "outputs": []
    },
    {
      "cell_type": "code",
      "source": [
        "lora_config = LoraConfig(\n",
        "    r=8,\n",
        "    lora_alpha=16,\n",
        "    target_modules=[\"q_proj\", \"v_proj\"],\n",
        "    lora_dropout=0.1,\n",
        "    bias=\"none\",\n",
        "    task_type=TaskType.CAUSAL_LM,\n",
        ")\n",
        "\n",
        "model = get_peft_model(model, lora_config)\n",
        "model.print_trainable_parameters()"
      ],
      "metadata": {
        "id": "dkztrOh3PSn_"
      },
      "execution_count": null,
      "outputs": []
    },
    {
      "cell_type": "code",
      "source": [
        "# pad_token 설정\n",
        "tokenizer.pad_token = tokenizer.eos_token\n",
        "\n",
        "def format_sample(sample):\n",
        "    prompt = sample[\"prompt\"]\n",
        "    completion = sample[\"completion\"]\n",
        "    text = f\"{prompt}\\n{completion}\"\n",
        "    return tokenizer(text, truncation=True, padding=\"max_length\", max_length=512)\n",
        "\n",
        "tokenized_dataset = dataset.map(format_sample)"
      ],
      "metadata": {
        "id": "KJCbVqJpPSlo"
      },
      "execution_count": null,
      "outputs": []
    },
    {
      "cell_type": "code",
      "source": [
        "training_args = TrainingArguments(\n",
        "    per_device_train_batch_size=2,\n",
        "    gradient_accumulation_steps=4,\n",
        "    warmup_steps=10,\n",
        "    num_train_epochs=3,\n",
        "    learning_rate=2e-4,\n",
        "    logging_dir=\"./logs\",\n",
        "    output_dir=\"./mistral-project-lora\",\n",
        "    save_total_limit=1,\n",
        "    save_strategy=\"epoch\",\n",
        "    eval_strategy=\"epoch\",\n",
        "    fp16=True,\n",
        ")\n",
        "\n",
        "# Trainer 정의 및 학습 시작\n",
        "trainer = Trainer(\n",
        "    model=model,\n",
        "    args=training_args,\n",
        "    train_dataset=tokenized_train,\n",
        "    eval_dataset=tokenized_test,\n",
        ")\n",
        "\n",
        "trainer.train()"
      ],
      "metadata": {
        "id": "etX2pVZVPSiR"
      },
      "execution_count": null,
      "outputs": []
    },
    {
      "cell_type": "code",
      "source": [
        "model.save_pretrained(\"mistral-project-lora\")\n",
        "tokenizer.save_pretrained(\"mistral-project-lora\")"
      ],
      "metadata": {
        "id": "xpHfSJq9PjfX"
      },
      "execution_count": null,
      "outputs": []
    },
    {
      "cell_type": "code",
      "source": [
        "!zip -r mistral-jaemini-lora.zip mistral-jaemini-lora\n",
        "from google.colab import files\n",
        "files.download(\"mistral-project-lora.zip\")"
      ],
      "metadata": {
        "id": "HZmjC9GlPlD3"
      },
      "execution_count": null,
      "outputs": []
    },
    {
      "cell_type": "markdown",
      "source": [
        "###테스트"
      ],
      "metadata": {
        "id": "SrNCVCWUPqo5"
      }
    },
    {
      "cell_type": "code",
      "source": [
        "from transformers import AutoTokenizer, AutoModelForCausalLM, BitsAndBytesConfig\n",
        "from peft import PeftModel\n",
        "import torch\n",
        "\n",
        "# 경량화 설정 (4bit 로딩)\n",
        "bnb_config = BitsAndBytesConfig(\n",
        "    load_in_4bit=True,\n",
        "    bnb_4bit_use_double_quant=True,\n",
        "    bnb_4bit_compute_dtype=torch.float16,\n",
        "    bnb_4bit_quant_type=\"nf4\"\n",
        ")\n",
        "\n",
        "# 베이스 모델 (Mistral) 로딩\n",
        "base_model = AutoModelForCausalLM.from_pretrained(\n",
        "    \"mistralai/Mistral-7B-v0.1\",\n",
        "    quantization_config=bnb_config,\n",
        "    device_map=\"auto\",  # GPU/CPU에 분산 로딩\n",
        "    trust_remote_code=True\n",
        ")\n",
        "\n",
        "# LoRA 파인튜닝된 가중치 적용\n",
        "model = PeftModel.from_pretrained(\n",
        "    base_model,\n",
        "    \"/content/mistral-project-lora\",  # 파인튜닝된 모델\n",
        "    device_map=\"auto\"\n",
        ")\n",
        "model.eval()\n",
        "\n",
        "# 토크나이저 로딩 (원본과 동일한 것 사용해야 함)\n",
        "tokenizer = AutoTokenizer.from_pretrained(\"mistralai/Mistral-7B-v0.1\", use_fast=True)\n",
        "\n",
        "# 테스트 프롬프트\n",
        "prompt = \"오늘 방송 시작하겠습니다.\\nAI:\"\n",
        "\n",
        "# 입력 토크나이즈\n",
        "inputs = tokenizer(prompt, return_tensors=\"pt\").to(\"cuda\" if torch.cuda.is_available() else \"cpu\")\n",
        "\n",
        "# 생성\n",
        "with torch.no_grad():\n",
        "    outputs = model.generate(\n",
        "        **inputs,\n",
        "        max_new_tokens=128,\n",
        "        temperature=0.7,\n",
        "        top_p=0.9,\n",
        "        do_sample=True,\n",
        "        pad_token_id=tokenizer.eos_token_id\n",
        "    )\n",
        "\n",
        "# 출력 디코딩\n",
        "response = tokenizer.decode(outputs[0], skip_special_tokens=True)\n",
        "print(response)"
      ],
      "metadata": {
        "id": "-S2iV3HKPmX8"
      },
      "execution_count": null,
      "outputs": []
    }
  ]
}